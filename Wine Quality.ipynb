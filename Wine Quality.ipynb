{
  "cells": [
    {
      "cell_type": "code",
      "execution_count": null,
      "metadata": {
        "id": "vXwsiM6fWShq"
      },
      "outputs": [],
      "source": [
        "# Kullanılan kütüphaneler\n",
        "import pandas as pd\n",
        "import numpy as np\n",
        "import matplotlib.pyplot as plt\n",
        "import seaborn as sns"
      ]
    },
    {
      "cell_type": "code",
      "execution_count": null,
      "metadata": {
        "scrolled": false,
        "id": "HKNXD4fcWShw",
        "outputId": "4869aef2-68fa-4d39-b82d-95edf7a7aab2"
      },
      "outputs": [
        {
          "data": {
            "text/html": [
              "<div>\n",
              "<style scoped>\n",
              "    .dataframe tbody tr th:only-of-type {\n",
              "        vertical-align: middle;\n",
              "    }\n",
              "\n",
              "    .dataframe tbody tr th {\n",
              "        vertical-align: top;\n",
              "    }\n",
              "\n",
              "    .dataframe thead th {\n",
              "        text-align: right;\n",
              "    }\n",
              "</style>\n",
              "<table border=\"1\" class=\"dataframe\">\n",
              "  <thead>\n",
              "    <tr style=\"text-align: right;\">\n",
              "      <th></th>\n",
              "      <th>fixed acidity</th>\n",
              "      <th>volatile acidity</th>\n",
              "      <th>citric acid</th>\n",
              "      <th>residual sugar</th>\n",
              "      <th>chlorides</th>\n",
              "      <th>free sulfur dioxide</th>\n",
              "      <th>total sulfur dioxide</th>\n",
              "      <th>density</th>\n",
              "      <th>pH</th>\n",
              "      <th>sulphates</th>\n",
              "      <th>alcohol</th>\n",
              "      <th>quality</th>\n",
              "    </tr>\n",
              "  </thead>\n",
              "  <tbody>\n",
              "    <tr>\n",
              "      <th>0</th>\n",
              "      <td>7.4</td>\n",
              "      <td>0.70</td>\n",
              "      <td>0.00</td>\n",
              "      <td>1.9</td>\n",
              "      <td>0.076</td>\n",
              "      <td>11.0</td>\n",
              "      <td>34.0</td>\n",
              "      <td>0.9978</td>\n",
              "      <td>3.51</td>\n",
              "      <td>0.56</td>\n",
              "      <td>9.4</td>\n",
              "      <td>5</td>\n",
              "    </tr>\n",
              "    <tr>\n",
              "      <th>1</th>\n",
              "      <td>7.8</td>\n",
              "      <td>0.88</td>\n",
              "      <td>0.00</td>\n",
              "      <td>2.6</td>\n",
              "      <td>0.098</td>\n",
              "      <td>25.0</td>\n",
              "      <td>67.0</td>\n",
              "      <td>0.9968</td>\n",
              "      <td>3.20</td>\n",
              "      <td>0.68</td>\n",
              "      <td>9.8</td>\n",
              "      <td>5</td>\n",
              "    </tr>\n",
              "    <tr>\n",
              "      <th>2</th>\n",
              "      <td>7.8</td>\n",
              "      <td>0.76</td>\n",
              "      <td>0.04</td>\n",
              "      <td>2.3</td>\n",
              "      <td>0.092</td>\n",
              "      <td>15.0</td>\n",
              "      <td>54.0</td>\n",
              "      <td>0.9970</td>\n",
              "      <td>3.26</td>\n",
              "      <td>0.65</td>\n",
              "      <td>9.8</td>\n",
              "      <td>5</td>\n",
              "    </tr>\n",
              "    <tr>\n",
              "      <th>3</th>\n",
              "      <td>11.2</td>\n",
              "      <td>0.28</td>\n",
              "      <td>0.56</td>\n",
              "      <td>1.9</td>\n",
              "      <td>0.075</td>\n",
              "      <td>17.0</td>\n",
              "      <td>60.0</td>\n",
              "      <td>0.9980</td>\n",
              "      <td>3.16</td>\n",
              "      <td>0.58</td>\n",
              "      <td>9.8</td>\n",
              "      <td>6</td>\n",
              "    </tr>\n",
              "    <tr>\n",
              "      <th>4</th>\n",
              "      <td>7.4</td>\n",
              "      <td>0.70</td>\n",
              "      <td>0.00</td>\n",
              "      <td>1.9</td>\n",
              "      <td>0.076</td>\n",
              "      <td>11.0</td>\n",
              "      <td>34.0</td>\n",
              "      <td>0.9978</td>\n",
              "      <td>3.51</td>\n",
              "      <td>0.56</td>\n",
              "      <td>9.4</td>\n",
              "      <td>5</td>\n",
              "    </tr>\n",
              "  </tbody>\n",
              "</table>\n",
              "</div>"
            ],
            "text/plain": [
              "   fixed acidity  volatile acidity  citric acid  residual sugar  chlorides  \\\n",
              "0            7.4              0.70         0.00             1.9      0.076   \n",
              "1            7.8              0.88         0.00             2.6      0.098   \n",
              "2            7.8              0.76         0.04             2.3      0.092   \n",
              "3           11.2              0.28         0.56             1.9      0.075   \n",
              "4            7.4              0.70         0.00             1.9      0.076   \n",
              "\n",
              "   free sulfur dioxide  total sulfur dioxide  density    pH  sulphates  \\\n",
              "0                 11.0                  34.0   0.9978  3.51       0.56   \n",
              "1                 25.0                  67.0   0.9968  3.20       0.68   \n",
              "2                 15.0                  54.0   0.9970  3.26       0.65   \n",
              "3                 17.0                  60.0   0.9980  3.16       0.58   \n",
              "4                 11.0                  34.0   0.9978  3.51       0.56   \n",
              "\n",
              "   alcohol  quality  \n",
              "0      9.4        5  \n",
              "1      9.8        5  \n",
              "2      9.8        5  \n",
              "3      9.8        6  \n",
              "4      9.4        5  "
            ]
          },
          "execution_count": 119,
          "metadata": {},
          "output_type": "execute_result"
        }
      ],
      "source": [
        "# Verisetinin yüklenmesi\n",
        "data = pd.read_csv(\"winequality-red.csv\", sep = \";\")\n",
        "\n",
        "#Veri dağılımını kontrol edelim\n",
        "data.head()"
      ]
    },
    {
      "cell_type": "code",
      "execution_count": null,
      "metadata": {
        "scrolled": true,
        "id": "OvtPjo4NWShx",
        "outputId": "130619a1-7539-4c74-a7a9-0d866ba341f4"
      },
      "outputs": [
        {
          "name": "stdout",
          "output_type": "stream",
          "text": [
            "<class 'pandas.core.frame.DataFrame'>\n",
            "RangeIndex: 1599 entries, 0 to 1598\n",
            "Data columns (total 12 columns):\n",
            " #   Column                Non-Null Count  Dtype  \n",
            "---  ------                --------------  -----  \n",
            " 0   fixed acidity         1599 non-null   float64\n",
            " 1   volatile acidity      1599 non-null   float64\n",
            " 2   citric acid           1599 non-null   float64\n",
            " 3   residual sugar        1599 non-null   float64\n",
            " 4   chlorides             1599 non-null   float64\n",
            " 5   free sulfur dioxide   1599 non-null   float64\n",
            " 6   total sulfur dioxide  1599 non-null   float64\n",
            " 7   density               1599 non-null   float64\n",
            " 8   pH                    1599 non-null   float64\n",
            " 9   sulphates             1599 non-null   float64\n",
            " 10  alcohol               1599 non-null   float64\n",
            " 11  quality               1599 non-null   int64  \n",
            "dtypes: float64(11), int64(1)\n",
            "memory usage: 150.0 KB\n"
          ]
        }
      ],
      "source": [
        "# Kolon bilgilerini alalım\n",
        "data.info()"
      ]
    },
    {
      "cell_type": "code",
      "execution_count": null,
      "metadata": {
        "id": "4G3wO0FpWShz",
        "outputId": "7d3a229c-bfaa-4a73-87ca-5e1da729fdf1"
      },
      "outputs": [
        {
          "data": {
            "text/plain": [
              "array([5, 6, 7, 4, 8, 3], dtype=int64)"
            ]
          },
          "execution_count": 121,
          "metadata": {},
          "output_type": "execute_result"
        }
      ],
      "source": [
        "# Şarap kalitesi 3 ile 8 arasında değişmekte\n",
        "data[\"quality\"].unique()"
      ]
    },
    {
      "cell_type": "markdown",
      "metadata": {
        "id": "kbAiSsDJWShz"
      },
      "source": [
        "### Veri Görselleştirme"
      ]
    },
    {
      "cell_type": "code",
      "execution_count": null,
      "metadata": {
        "id": "x_KeoTrQWSh2",
        "outputId": "849d9fb4-01ee-4dc4-be4c-a08c1026cca4"
      },
      "outputs": [
        {
          "data": {
            "text/plain": [
              "<matplotlib.axes._subplots.AxesSubplot at 0x5780686908>"
            ]
          },
          "execution_count": 122,
          "metadata": {},
          "output_type": "execute_result"
        },
        {
          "data": {
            "image/png": "[encoded data removed]",
            "text/plain": [
              "<Figure size 720x432 with 1 Axes>"
            ]
          },
          "metadata": {
            "needs_background": "light"
          },
          "output_type": "display_data"
        }
      ],
      "source": [
        "# Kaliteye göre asitlik değerleri (Sabit asitlik kaliteyi sınıflandırmak için yeterli özellik vermiyor)\n",
        "fig = plt.figure(figsize = (10,6))\n",
        "sns.barplot(data = data, x = \"quality\", y = \"fixed acidity\")"
      ]
    },
    {
      "cell_type": "code",
      "execution_count": null,
      "metadata": {
        "id": "G7mIORwdWSh3",
        "outputId": "3743cbc9-d7c8-4d65-9c31-56da9fe31710"
      },
      "outputs": [
        {
          "data": {
            "text/plain": [
              "<matplotlib.axes._subplots.AxesSubplot at 0x578072f8c8>"
            ]
          },
          "execution_count": 123,
          "metadata": {},
          "output_type": "execute_result"
        },
        {
          "data": {
            "image/png": "[encoded data removed]",
            "text/plain": [
              "<Figure size 720x432 with 1 Axes>"
            ]
          },
          "metadata": {
            "needs_background": "light"
          },
          "output_type": "display_data"
        }
      ],
      "source": [
        "# Kalite yükseldikçe uçucu asitlik düşüş eğilimi göstermekte\n",
        "fig = plt.figure(figsize = (10,6))\n",
        "sns.lineplot(data = data, x = \"quality\", y = \"volatile acidity\")"
      ]
    },
    {
      "cell_type": "code",
      "execution_count": null,
      "metadata": {
        "id": "eQnH34BLWSh4",
        "outputId": "5b28c575-ad9d-4612-f78e-bbcf4397cf28"
      },
      "outputs": [
        {
          "data": {
            "text/plain": [
              "<matplotlib.axes._subplots.AxesSubplot at 0x5780719108>"
            ]
          },
          "execution_count": 124,
          "metadata": {},
          "output_type": "execute_result"
        },
        {
          "data": {
            "image/png": "[encoded data removed]",
            "text/plain": [
              "<Figure size 720x432 with 1 Axes>"
            ]
          },
          "metadata": {
            "needs_background": "light"
          },
          "output_type": "display_data"
        }
      ],
      "source": [
        "# Şarap kalitesiyle birlikte sitrik asit miktarı da artış göstermekte\n",
        "fig = plt.figure(figsize = (10,6))\n",
        "sns.lineplot(data = data, x = \"quality\", y = \"citric acid\")"
      ]
    },
    {
      "cell_type": "code",
      "execution_count": null,
      "metadata": {
        "scrolled": false,
        "id": "77gfzm0GWSh5",
        "outputId": "aa74fa44-97bc-4661-a9de-67bfafd8c658"
      },
      "outputs": [
        {
          "data": {
            "text/plain": [
              "<matplotlib.axes._subplots.AxesSubplot at 0x57806b6308>"
            ]
          },
          "execution_count": 125,
          "metadata": {},
          "output_type": "execute_result"
        },
        {
          "data": {
            "image/png": "[encoded data removed]",
            "text/plain": [
              "<Figure size 720x432 with 1 Axes>"
            ]
          },
          "metadata": {
            "needs_background": "light"
          },
          "output_type": "display_data"
        }
      ],
      "source": [
        "fig = plt.figure(figsize = (10,6))\n",
        "sns.barplot(data = data, x = \"quality\", y = \"residual sugar\")"
      ]
    },
    {
      "cell_type": "code",
      "execution_count": null,
      "metadata": {
        "id": "yViX1LKRWSh7",
        "outputId": "8a2fe6ee-b4db-4bd4-9787-411ed35b7aac"
      },
      "outputs": [
        {
          "data": {
            "text/plain": [
              "<matplotlib.axes._subplots.AxesSubplot at 0x578197eb08>"
            ]
          },
          "execution_count": 126,
          "metadata": {},
          "output_type": "execute_result"
        },
        {
          "data": {
            "image/png": "[encoded data removed]",
            "text/plain": [
              "<Figure size 720x432 with 1 Axes>"
            ]
          },
          "metadata": {
            "needs_background": "light"
          },
          "output_type": "display_data"
        }
      ],
      "source": [
        "# Klorür bileşimi ve şarap kalitesi (Ters orantı var denebilir. 4 ve 5 kalitedeki şaraplara detaylı bakmak gerek.)\n",
        "fig = plt.figure(figsize = (10,6))\n",
        "sns.barplot(data = data, x = \"quality\", y = \"chlorides\")"
      ]
    },
    {
      "cell_type": "code",
      "execution_count": null,
      "metadata": {
        "id": "95SokmrbWSh8",
        "outputId": "5c45f414-2068-452a-acd2-3528721eba64"
      },
      "outputs": [
        {
          "data": {
            "text/plain": [
              "<matplotlib.axes._subplots.AxesSubplot at 0x5781870448>"
            ]
          },
          "execution_count": 127,
          "metadata": {},
          "output_type": "execute_result"
        },
        {
          "data": {
            "image/png": "[encoded data removed]",
            "text/plain": [
              "<Figure size 720x864 with 2 Axes>"
            ]
          },
          "metadata": {
            "needs_background": "light"
          },
          "output_type": "display_data"
        }
      ],
      "source": [
        "# Sabit/serbest SO₂ miktarı ve şarap kalitesi\n",
        "fig, axes = plt.subplots(2, 1, figsize = (10,12))\n",
        "sns.barplot(data = data, x = \"quality\", y = \"free sulfur dioxide\", ax = axes[0])\n",
        "sns.barplot(data = data, x = \"quality\", y = \"total sulfur dioxide\", ax = axes[1])"
      ]
    },
    {
      "cell_type": "code",
      "execution_count": null,
      "metadata": {
        "id": "iPBWQ5F7WSh9",
        "outputId": "33c3beb3-7789-458d-fb67-8db5ff6d2352"
      },
      "outputs": [
        {
          "data": {
            "text/plain": [
              "<matplotlib.axes._subplots.AxesSubplot at 0x5781870908>"
            ]
          },
          "execution_count": 128,
          "metadata": {},
          "output_type": "execute_result"
        },
        {
          "data": {
            "image/png": "[encoded data removed]",
            "text/plain": [
              "<Figure size 720x432 with 1 Axes>"
            ]
          },
          "metadata": {
            "needs_background": "light"
          },
          "output_type": "display_data"
        }
      ],
      "source": [
        "# Şarap kalitesi ile SO₄²- miktarı artmakta\n",
        "fig, ax = plt.subplots(figsize = (10,6))\n",
        "sns.lineplot(data = data, x = \"quality\", y = \"sulphates\")"
      ]
    },
    {
      "cell_type": "code",
      "execution_count": null,
      "metadata": {
        "id": "6ErOKoedWSh-",
        "outputId": "4f04806c-46bc-43e8-c6f9-94953d10d9a8"
      },
      "outputs": [
        {
          "data": {
            "text/plain": [
              "<matplotlib.axes._subplots.AxesSubplot at 0x5781922d08>"
            ]
          },
          "execution_count": 129,
          "metadata": {},
          "output_type": "execute_result"
        },
        {
          "data": {
            "image/png": "[encoded data removed]",
            "text/plain": [
              "<Figure size 720x432 with 1 Axes>"
            ]
          },
          "metadata": {
            "needs_background": "light"
          },
          "output_type": "display_data"
        }
      ],
      "source": [
        "# Şarap kalitesi ile alkol miktarı da artmakta\n",
        "fig, ax = plt.subplots(figsize = (10,6))\n",
        "sns.lineplot(data = data, x = \"quality\", y = \"alcohol\")"
      ]
    },
    {
      "cell_type": "markdown",
      "metadata": {
        "id": "NP9ZptEDWSh_"
      },
      "source": [
        "### Veri Ön İşleme"
      ]
    },
    {
      "cell_type": "code",
      "execution_count": null,
      "metadata": {
        "id": "26zhchLBWSh_"
      },
      "outputs": [],
      "source": [
        "# Kalite sınırı belirleyerek basit metodoloji ile binary classification uygulanabilir. Sonuç olarak hedef değerimiz \"iyi\" şarap\n",
        "# veya \"kötü\" şarap olacaktır.\n",
        "\n",
        "bins = (2, 6.5, 8) # kötü < 6.5 < iyi\n",
        "group_names = [\"bad\", \"good\"]\n",
        "data[\"quality\"] = pd.cut(data[\"quality\"], bins = bins, labels = group_names)"
      ]
    },
    {
      "cell_type": "code",
      "execution_count": null,
      "metadata": {
        "id": "GN9O-2B9WSiA",
        "outputId": "5764e77e-b92a-4793-fcec-75489ad18d83"
      },
      "outputs": [
        {
          "data": {
            "text/plain": [
              "[bad, good]\n",
              "Categories (2, object): [bad < good]"
            ]
          },
          "execution_count": 137,
          "metadata": {},
          "output_type": "execute_result"
        }
      ],
      "source": [
        "data[\"quality\"].unique()"
      ]
    },
    {
      "cell_type": "markdown",
      "metadata": {
        "id": "TS2jVau4WSiB"
      },
      "source": [
        "### Encoding"
      ]
    },
    {
      "cell_type": "code",
      "execution_count": null,
      "metadata": {
        "id": "MmYg6geqWSiB"
      },
      "outputs": [],
      "source": [
        "from sklearn.preprocessing import StandardScaler, LabelEncoder"
      ]
    },
    {
      "cell_type": "code",
      "execution_count": null,
      "metadata": {
        "id": "iJKSLGinWSiC"
      },
      "outputs": [],
      "source": [
        "le = LabelEncoder()"
      ]
    },
    {
      "cell_type": "code",
      "execution_count": null,
      "metadata": {
        "id": "VoKnSfvoWSiD"
      },
      "outputs": [],
      "source": [
        "data[\"quality\"] = le.fit_transform(data[\"quality\"])"
      ]
    },
    {
      "cell_type": "code",
      "execution_count": null,
      "metadata": {
        "id": "wAn9SeipWSiE",
        "outputId": "510a755a-b184-435e-f56b-90217e209fd6"
      },
      "outputs": [
        {
          "data": {
            "text/plain": [
              "0    0\n",
              "1    0\n",
              "2    0\n",
              "3    0\n",
              "4    0\n",
              "Name: quality, dtype: int32"
            ]
          },
          "execution_count": 145,
          "metadata": {},
          "output_type": "execute_result"
        }
      ],
      "source": [
        "data.quality.head() # Kötü şarap 0 - iyi şarap 1 değerini alır"
      ]
    },
    {
      "cell_type": "code",
      "execution_count": null,
      "metadata": {
        "id": "M1DMitySWSiF",
        "outputId": "a6951c01-9c27-495b-d0b8-bf792a03a5f0"
      },
      "outputs": [
        {
          "data": {
            "text/plain": [
              "0    1382\n",
              "1     217\n",
              "Name: quality, dtype: int64"
            ]
          },
          "execution_count": 148,
          "metadata": {},
          "output_type": "execute_result"
        }
      ],
      "source": [
        "data[\"quality\"].value_counts()"
      ]
    },
    {
      "cell_type": "code",
      "execution_count": null,
      "metadata": {
        "id": "R7I_m7LFWSiF",
        "outputId": "803c1272-73e4-4c03-f374-83b6d1c1c961"
      },
      "outputs": [
        {
          "data": {
            "text/plain": [
              "<matplotlib.axes._subplots.AxesSubplot at 0x5781a30308>"
            ]
          },
          "execution_count": 149,
          "metadata": {},
          "output_type": "execute_result"
        },
        {
          "data": {
            "image/png": "[encoded data removed]",
            "text/plain": [
              "<Figure size 432x288 with 1 Axes>"
            ]
          },
          "metadata": {
            "needs_background": "light"
          },
          "output_type": "display_data"
        }
      ],
      "source": [
        "sns.countplot(data[\"quality\"])"
      ]
    },
    {
      "cell_type": "markdown",
      "metadata": {
        "id": "ju7v-DWeWSiG"
      },
      "source": [
        "### Eğitim ve Test Verisi"
      ]
    },
    {
      "cell_type": "code",
      "execution_count": null,
      "metadata": {
        "id": "hgg4ecs6WSiG"
      },
      "outputs": [],
      "source": [
        "X = data.drop(\"quality\", axis = 1) # features\n",
        "y = data[\"quality\"] # target"
      ]
    },
    {
      "cell_type": "code",
      "execution_count": null,
      "metadata": {
        "id": "V5RqHKoCWSiZ"
      },
      "outputs": [],
      "source": [
        "from sklearn.model_selection import train_test_split\n",
        "\n",
        "X_train, X_test, y_train, y_test = train_test_split(X, y, test_size = 0.25, random_state = 7)"
      ]
    },
    {
      "cell_type": "code",
      "execution_count": null,
      "metadata": {
        "id": "jpwV0j9FWSiZ"
      },
      "outputs": [],
      "source": [
        "# Optimize sonuç elde etmek için ölçekleme\n",
        "sc = StandardScaler()"
      ]
    },
    {
      "cell_type": "code",
      "execution_count": null,
      "metadata": {
        "id": "rveYOW5wWSia"
      },
      "outputs": [],
      "source": [
        "X_train = sc.fit_transform(X_train)\n",
        "X_test = sc.fit_transform(X_test)"
      ]
    },
    {
      "cell_type": "code",
      "execution_count": null,
      "metadata": {
        "id": "EMAHBAn2WSia",
        "outputId": "9d619bb8-773b-4294-93e5-b8f575add4f9"
      },
      "outputs": [
        {
          "name": "stdout",
          "output_type": "stream",
          "text": [
            "Min: -3.4559745214287196 Max: 10.972405777139896\n",
            "Min: -3.7262589728543434 Max: 11.617979091761194\n"
          ]
        }
      ],
      "source": [
        "for i in X_train, X_test:\n",
        "    print(\"Min:\",i.min(),\"Max:\",i.max())"
      ]
    },
    {
      "cell_type": "markdown",
      "metadata": {
        "id": "WKkP1vV2WSib"
      },
      "source": [
        "### Eğitim ve Test Verileri Makine Öğrenimi Algoritmaları İçin Hazır"
      ]
    },
    {
      "cell_type": "code",
      "execution_count": null,
      "metadata": {
        "id": "PlTtmtJBWSib"
      },
      "outputs": [],
      "source": [
        "from sklearn.ensemble import RandomForestClassifier\n",
        "from sklearn.svm import SVC\n",
        "from sklearn.linear_model import SGDClassifier\n",
        "from sklearn.metrics import confusion_matrix, classification_report\n",
        "from sklearn.model_selection import GridSearchCV, cross_val_score"
      ]
    },
    {
      "cell_type": "code",
      "execution_count": null,
      "metadata": {
        "id": "O6JgdmfIWSic"
      },
      "outputs": [],
      "source": [
        "# Random Forest Classifier\n",
        "rf = RandomForestClassifier(n_estimators = 250)\n",
        "rf.fit(X_train, y_train)\n",
        "pred_rf = rf.predict(X_test)"
      ]
    },
    {
      "cell_type": "code",
      "execution_count": null,
      "metadata": {
        "id": "f0uFetxBWSic",
        "outputId": "9a3c35a5-1dab-4bac-ed92-2c19bd8ac12a"
      },
      "outputs": [
        {
          "name": "stdout",
          "output_type": "stream",
          "text": [
            "              precision    recall  f1-score   support\n",
            "\n",
            "           0       0.91      0.97      0.94       349\n",
            "           1       0.61      0.33      0.43        51\n",
            "\n",
            "    accuracy                           0.89       400\n",
            "   macro avg       0.76      0.65      0.68       400\n",
            "weighted avg       0.87      0.89      0.87       400\n",
            "\n"
          ]
        }
      ],
      "source": [
        "# Model Performansı\n",
        "print(classification_report(y_test, pred_rf))"
      ]
    },
    {
      "cell_type": "code",
      "execution_count": null,
      "metadata": {
        "id": "f8CHbHzoWSig",
        "outputId": "b2cc7649-66be-4acc-8c7d-1a81797329f7"
      },
      "outputs": [
        {
          "name": "stdout",
          "output_type": "stream",
          "text": [
            "[[338  11]\n",
            " [ 34  17]]\n"
          ]
        }
      ],
      "source": [
        "# 0 olup 0 tahmin edilenler: 338\n",
        "# 0 olup 1 tahmin edilenler: 11\n",
        "# 1 olup 0 tahmin edilenler: 34\n",
        "# 1 olup 1 tahmin edilenler: 17\n",
        "\n",
        "# Confusion Matrix\n",
        "print(confusion_matrix(y_test, pred_rf))"
      ]
    },
    {
      "cell_type": "code",
      "execution_count": null,
      "metadata": {
        "id": "nc8z4et-WSih"
      },
      "outputs": [],
      "source": [
        "# Stochastic Gradient Decent Classifier\n",
        "sgd = SGDClassifier(penalty = None)\n",
        "sgd.fit(X_train, y_train)\n",
        "pred_sgd = sgd.predict(X_test)"
      ]
    },
    {
      "cell_type": "code",
      "execution_count": null,
      "metadata": {
        "id": "ElbC4iFXWSih",
        "outputId": "d832f995-bd63-4abb-fa1f-1e52e3bf0d89"
      },
      "outputs": [
        {
          "name": "stdout",
          "output_type": "stream",
          "text": [
            "              precision    recall  f1-score   support\n",
            "\n",
            "           0       0.88      0.99      0.93       349\n",
            "           1       0.38      0.06      0.10        51\n",
            "\n",
            "    accuracy                           0.87       400\n",
            "   macro avg       0.63      0.52      0.52       400\n",
            "weighted avg       0.81      0.87      0.82       400\n",
            "\n"
          ]
        }
      ],
      "source": [
        "print(classification_report(y_test, pred_sgd))"
      ]
    },
    {
      "cell_type": "code",
      "execution_count": null,
      "metadata": {
        "scrolled": true,
        "id": "H_igxRhTWSi-",
        "outputId": "b53b23d6-9464-4deb-8ce4-5ec9f00b3385"
      },
      "outputs": [
        {
          "name": "stdout",
          "output_type": "stream",
          "text": [
            "[[344   5]\n",
            " [ 48   3]]\n"
          ]
        }
      ],
      "source": [
        "# 0 olup 0 tahmin edilenler: 344\n",
        "# 0 olup 1 tahmin edilenler: 5\n",
        "# 1 olup 0 tahmin edilenler: 48\n",
        "# 1 olup 1 tahmin edilenler: 3\n",
        "print(confusion_matrix(y_test, pred_sgd))"
      ]
    },
    {
      "cell_type": "code",
      "execution_count": null,
      "metadata": {
        "id": "TdWohGf3WSi-"
      },
      "outputs": [],
      "source": [
        "# Support Vector Classifier\n",
        "svc = SVC()\n",
        "svc.fit(X_train, y_train)\n",
        "pred_svc = svc.predict(X_test)"
      ]
    },
    {
      "cell_type": "code",
      "execution_count": null,
      "metadata": {
        "id": "INigPkNaWSi_",
        "outputId": "a7c62011-7404-498b-a8ec-cfad9b5e1ef4"
      },
      "outputs": [
        {
          "name": "stdout",
          "output_type": "stream",
          "text": [
            "              precision    recall  f1-score   support\n",
            "\n",
            "           0       0.90      0.97      0.94       349\n",
            "           1       0.60      0.29      0.39        51\n",
            "\n",
            "    accuracy                           0.89       400\n",
            "   macro avg       0.75      0.63      0.67       400\n",
            "weighted avg       0.87      0.89      0.87       400\n",
            "\n"
          ]
        }
      ],
      "source": [
        "print(classification_report(y_test, pred_svc))"
      ]
    },
    {
      "cell_type": "markdown",
      "metadata": {
        "id": "_eZAer4DWSi_"
      },
      "source": [
        "### Model Doğruluğunu Arttırmak İçin?"
      ]
    },
    {
      "cell_type": "code",
      "execution_count": null,
      "metadata": {
        "id": "VPTXhMOAWSjA"
      },
      "outputs": [],
      "source": [
        "# SVC modeli için en iyi parametrelerin bulunması\n",
        "param = {\n",
        "    \"C\": [0.1, 0.8, 0.9, 1, 1.1, 1.2, 1.3, 1.4],\n",
        "    \"kernel\":[\"linear\", \"rbf\"],\n",
        "    \"gamma\" :[0.1, 0.8, 0.9, 1, 1.1, 1.2, 1.3, 1.4]\n",
        "}\n",
        "\n",
        "grid_svc = GridSearchCV(svc, param_grid = param, scoring = \"accuracy\", cv = 10)"
      ]
    },
    {
      "cell_type": "code",
      "execution_count": null,
      "metadata": {
        "id": "jA3LrrIIWSjE",
        "outputId": "a7b22c5e-1f0a-450e-9824-b7de165d89f3"
      },
      "outputs": [
        {
          "data": {
            "text/plain": [
              "GridSearchCV(cv=10, error_score=nan,\n",
              "             estimator=SVC(C=1.0, break_ties=False, cache_size=200,\n",
              "                           class_weight=None, coef0=0.0,\n",
              "                           decision_function_shape='ovr', degree=3,\n",
              "                           gamma='scale', kernel='rbf', max_iter=-1,\n",
              "                           probability=False, random_state=None, shrinking=True,\n",
              "                           tol=0.001, verbose=False),\n",
              "             iid='deprecated', n_jobs=None,\n",
              "             param_grid={'C': [0.1, 0.8, 0.9, 1, 1.1, 1.2, 1.3, 1.4],\n",
              "                         'gamma': [0.1, 0.8, 0.9, 1, 1.1, 1.2, 1.3, 1.4],\n",
              "                         'kernel': ['linear', 'rbf']},\n",
              "             pre_dispatch='2*n_jobs', refit=True, return_train_score=False,\n",
              "             scoring='accuracy', verbose=0)"
            ]
          },
          "execution_count": 181,
          "metadata": {},
          "output_type": "execute_result"
        }
      ],
      "source": [
        "grid_svc.fit(X_train, y_train)"
      ]
    },
    {
      "cell_type": "code",
      "execution_count": null,
      "metadata": {
        "id": "fWVroSGqWSjL",
        "outputId": "a99611b4-3aa7-43c8-de9c-967ce9e3f44e"
      },
      "outputs": [
        {
          "data": {
            "text/plain": [
              "{'C': 1.3, 'gamma': 1.3, 'kernel': 'rbf'}"
            ]
          },
          "execution_count": 183,
          "metadata": {},
          "output_type": "execute_result"
        }
      ],
      "source": [
        "# En iyi parametreler\n",
        "grid_svc.best_params_"
      ]
    },
    {
      "cell_type": "code",
      "execution_count": null,
      "metadata": {
        "id": "8Xg8Dci3WSjL",
        "outputId": "7643446d-4d74-4d31-a5b5-a44287e1c907"
      },
      "outputs": [
        {
          "name": "stdout",
          "output_type": "stream",
          "text": [
            "              precision    recall  f1-score   support\n",
            "\n",
            "           0       0.91      0.99      0.95       349\n",
            "           1       0.90      0.35      0.51        51\n",
            "\n",
            "    accuracy                           0.91       400\n",
            "   macro avg       0.91      0.67      0.73       400\n",
            "weighted avg       0.91      0.91      0.90       400\n",
            "\n"
          ]
        }
      ],
      "source": [
        "# SVC modeli en iyi parametreler ile uygulayalım\n",
        "svc2 = SVC(C = 1.3, gamma =  1.3, kernel= 'rbf')\n",
        "svc2.fit(X_train, y_train)\n",
        "pred_svc2 = svc2.predict(X_test)\n",
        "print(classification_report(y_test, pred_svc2))"
      ]
    },
    {
      "cell_type": "markdown",
      "metadata": {
        "id": "354ilLtzWSjL"
      },
      "source": [
        "#### SVC Accuracy: %87 → %91"
      ]
    },
    {
      "cell_type": "code",
      "execution_count": null,
      "metadata": {
        "id": "_7mn0vY8WSjM",
        "outputId": "077321bc-4d15-40d3-b940-b246f0fa8f34"
      },
      "outputs": [
        {
          "data": {
            "text/plain": [
              "0.9107703081232493"
            ]
          },
          "execution_count": 186,
          "metadata": {},
          "output_type": "execute_result"
        }
      ],
      "source": [
        "# Random Forest modeli için Cross Validation\n",
        "rf_eval = cross_val_score(estimator = rf, X = X_train, y = y_train, cv = 10)\n",
        "rf_eval.mean()"
      ]
    },
    {
      "cell_type": "markdown",
      "metadata": {
        "id": "WzMzsiqqWSjM"
      },
      "source": [
        "#### Random Forest Accuracy: %87 → %91"
      ]
    }
  ],
  "metadata": {
    "kernelspec": {
      "display_name": "Python 3.7.4 64-bit",
      "language": "python",
      "name": "python37464bit360a811c6c0b4a1e921b4492f7052d68"
    },
    "language_info": {
      "codemirror_mode": {
        "name": "ipython",
        "version": 3
      },
      "file_extension": ".py",
      "mimetype": "text/x-python",
      "name": "python",
      "nbconvert_exporter": "python",
      "pygments_lexer": "ipython3",
      "version": "3.7.4"
    },
    "colab": {
      "name": "Wine Quality.ipynb",
      "provenance": []
    }
  },
  "nbformat": 4,
  "nbformat_minor": 0
}